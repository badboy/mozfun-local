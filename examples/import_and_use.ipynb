{
 "cells": [
  {
   "cell_type": "code",
   "execution_count": 1,
   "metadata": {},
   "outputs": [],
   "source": [
    "# Using a Local Mozfun function is pretty straightforward\n",
    "# Paths follow the same structure as they do in Mozfun on BQ\n",
    "from mozfun_local.norm_fun import norm_truncate_version"
   ]
  },
  {
   "cell_type": "code",
   "execution_count": 2,
   "metadata": {},
   "outputs": [
    {
     "name": "stdout",
     "output_type": "stream",
     "text": [
      "105\n"
     ]
    }
   ],
   "source": [
    "# Let's try norm_truncat_version on a release\n",
    "release = \"105.4.1\"\n",
    "\n",
    "major_version = norm_truncate_version(release, \"major\")\n",
    "print(major_version)"
   ]
  },
  {
   "cell_type": "code",
   "execution_count": 3,
   "metadata": {},
   "outputs": [
    {
     "name": "stdout",
     "output_type": "stream",
     "text": [
      "105.4\n"
     ]
    }
   ],
   "source": [
    "# And now we can try to get the minor version\n",
    "minor_version = norm_truncate_version(release, \"minor\")\n",
    "print(minor_version)"
   ]
  },
  {
   "cell_type": "code",
   "execution_count": 6,
   "metadata": {},
   "outputs": [
    {
     "name": "stdout",
     "output_type": "stream",
     "text": [
      "   version truncate\n",
      "0  105.4.1    major\n",
      "1  106.0.0    minor\n"
     ]
    }
   ],
   "source": [
    "# A common use case would be to do this in pandas\n",
    "import pandas as pd\n",
    "\n",
    "data = pd.DataFrame(\n",
    "    [[\"105.4.1\", \"minor\"], [\"106.0.0\", \"major\"]], columns=[\"version\", \"truncate\"]\n",
    ")\n",
    "print(data.head())"
   ]
  },
  {
   "cell_type": "code",
   "execution_count": 8,
   "metadata": {},
   "outputs": [
    {
     "name": "stdout",
     "output_type": "stream",
     "text": [
      "   version truncate truncated_version\n",
      "0  105.4.1    major               105\n",
      "1  106.0.0    minor             106.0\n"
     ]
    }
   ],
   "source": [
    "# Now we can apply it to each row\n",
    "data[\"truncated_version\"] = data.apply(\n",
    "    lambda x: norm_truncate_version(x[\"version\"], x[\"truncate\"]), axis=1\n",
    ")\n",
    "\n",
    "print(data.head())"
   ]
  },
  {
   "cell_type": "code",
   "execution_count": 11,
   "metadata": {},
   "outputs": [
    {
     "name": "stdout",
     "output_type": "stream",
     "text": [
      "in the aeroplane over the sea is neither major/minor\n"
     ]
    }
   ],
   "source": [
    "# Let's see what happens when we disregard the help for the function\n",
    "\n",
    "try:\n",
    "    undefined_truncation = norm_truncate_version(release, \"In the Aeroplane Over the Sea\")\n",
    "except AssertionError as err:\n",
    "    print(err)"
   ]
  }
 ],
 "metadata": {
  "kernelspec": {
   "display_name": "Python 3.10.6 64-bit ('mozfun_local')",
   "language": "python",
   "name": "python3"
  },
  "language_info": {
   "codemirror_mode": {
    "name": "ipython",
    "version": 3
   },
   "file_extension": ".py",
   "mimetype": "text/x-python",
   "name": "python",
   "nbconvert_exporter": "python",
   "pygments_lexer": "ipython3",
   "version": "3.10.6"
  },
  "orig_nbformat": 4,
  "vscode": {
   "interpreter": {
    "hash": "525ef15bbe8cfb351c569899e790d1bbf380fd29ed690065dc47c520e2ae3cc5"
   }
  }
 },
 "nbformat": 4,
 "nbformat_minor": 2
}
